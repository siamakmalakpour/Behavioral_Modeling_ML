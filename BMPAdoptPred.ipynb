{
 "cells": [
  {
   "cell_type": "code",
   "execution_count": 20,
   "metadata": {},
   "outputs": [
    {
     "name": "stderr",
     "output_type": "stream",
     "text": [
      "meta NOT subset; don't know how to subset; dropped\n"
     ]
    },
    {
     "name": "stdout",
     "output_type": "stream",
     "text": [
      "The overall accuracy of Occurrence Prediction for training: 86.13%\n",
      "The overall accuracy of Occurrence Prediction for testing: 84.42%\n",
      "[[1145  243]\n",
      " [ 116  800]]\n",
      "Time for training the regression model: 0.4647s\n",
      "MSE and R2 and MAE of Training: 0.1387 and 0.42 and 0.14\n",
      "MSE and R2 and MAE of Prediction: 0.1558 and 0.35 and 0.16\n"
     ]
    },
    {
     "data": {
      "image/png": "[encoded data removed]",
      "text/plain": [
       "<Figure size 432x288 with 1 Axes>"
      ]
     },
     "metadata": {
      "needs_background": "light"
     },
     "output_type": "display_data"
    },
    {
     "data": {
      "image/png": "[encoded data removed]",
      "text/plain": [
       "<Figure size 432x288 with 1 Axes>"
      ]
     },
     "metadata": {
      "needs_background": "light"
     },
     "output_type": "display_data"
    }
   ],
   "source": [
    "import pandas as pd\n",
    "import matplotlib as mpl\n",
    "import matplotlib.pyplot as plt\n",
    "mpl.rcParams['pdf.fonttype'] = 42\n",
    "\n",
    "df = pd.read_csv('data_final.csv')\n",
    "k =df.id.unique()\n",
    "\n",
    "dk = pd.DataFrame()\n",
    "dj = pd.DataFrame()\n",
    "\n",
    "for i in k:\n",
    "    \n",
    "    dg= df.loc[df['id'] == i]\n",
    "    p70 = dg.sample(frac = 0.70)\n",
    "  \n",
    "# Creating dataframe with \n",
    "# rest of the 30% values\n",
    "    rp30 = dg.drop(p70.index)\n",
    "    dk = pd.concat([dk,p70])\n",
    "    dj = pd.concat([dj,rp30])\n",
    "# see pd.concat documentation for more info\n",
    "\n",
    "dm = dk.sample(frac = 1)\n",
    "dn = dj.sample(frac = 1)\n",
    "gf = pd.concat([dm, dn])\n",
    "\n",
    "df_dum = gf\n",
    "\n",
    "del df_dum['id']\n",
    "\n",
    "df_dum.to_csv('r.csv', index=False)\n",
    "\n",
    "import shap\n",
    "from xgboost import XGBRegressor\n",
    "from xgboost import XGBClassifier\n",
    "from sklearn.metrics import mean_squared_error, r2_score, mean_absolute_error\n",
    "import xgboost as xgb\n",
    "from joblib import dump\n",
    "from joblib import load\n",
    "from sklearn.preprocessing import QuantileTransformer, quantile_transform\n",
    "from sklearn.compose import TransformedTargetRegressor\n",
    "from matplotlib import pyplot\n",
    "import time\n",
    "import numpy as np\n",
    "from sklearn.metrics import confusion_matrix\n",
    "from matplotlib import pyplot as plt\n",
    "from sklearn.metrics import accuracy_score\n",
    "\n",
    "TIMEFORMAT = '%m/%d/%y %H:%M'\n",
    "TIMEFORMAT1 = '%m/%d/%y'\n",
    "\n",
    "import warnings\n",
    "warnings.filterwarnings(\"ignore\")\n",
    "\n",
    "def prdBMPXGBoost(datasets1, target, variables):\n",
    "\n",
    "    # check if all variables is in datasets1\n",
    "    colnames = datasets1.columns.to_list()\n",
    "    if not all(col in colnames for col in variables):\n",
    "        print('not all variables appear in the datasets 2')\n",
    "        exit()\n",
    "\n",
    "    #########################################################################################\n",
    "    # Phase 1: training\n",
    "    #########################################################################################\n",
    "    # training data (70%) for the prediction of the BMP adoption decision\n",
    "    m = datasets1.shape[0]\n",
    "    b = np.array(['size',\n",
    "    'policy',\n",
    "    'info1',\n",
    "    'info2'\n",
    "    ])\n",
    "    \n",
    "    mt = int(m*0.70)\n",
    " \n",
    "    # training data (70%) for the prediction of the BMP adoption decision\n",
    "    tr_m_xv = (datasets1.loc[0:mt, variables])\n",
    "    \n",
    "    tr_m_yv_obs = (datasets1.loc[0:mt, target])\n",
    "    \n",
    "    # validation data (30%) for the prediction of the BMP adoption decision\n",
    "    val_m_xv = (datasets1.loc[mt:, variables])\n",
    "    val_m_yv_obs = (datasets1.loc[mt:, target])\n",
    "     \n",
    "    ########################################################################################\n",
    "    # XGBoost Classifier\n",
    "    ########################################################################################\n",
    "    start = time.time()   \n",
    "    \n",
    "    # training the XGBoost models\n",
    "    cv_cl_mod = xgb.XGBClassifier(\n",
    "         \n",
    "        learning_rate= 0.1, max_depth= 5, min_child_weight= 7, \n",
    "        \n",
    "        objective= 'binary:hinge'\n",
    "       )\n",
    "\n",
    "    cv_cl_mod.fit(tr_m_xv, tr_m_yv_obs)\n",
    "    \n",
    "    explainer = shap.TreeExplainer(cv_cl_mod)\n",
    "    shap_values = explainer.shap_values(tr_m_xv)\n",
    "    \n",
    "    importance = cv_cl_mod.feature_importances_\n",
    "\n",
    "    t_c_yv_mod = cv_cl_mod.predict(tr_m_xv)\n",
    "    prediction1 = accuracy_score(tr_m_yv_obs, t_c_yv_mod)\n",
    "    print('The overall accuracy of adoption decision Prediction for training: {0:.2f}%'.format(prediction1*100))\n",
    "    \n",
    "    val_c_yv_mod = cv_cl_mod.predict(val_m_xv)\n",
    "    prediction = accuracy_score(val_m_yv_obs, val_c_yv_mod)\n",
    "    print('The overall accuracy of adoption decision Prediction for testing: {0:.2f}%'.format(prediction*100))\n",
    "    \n",
    "    hh = confusion_matrix(val_m_yv_obs, val_c_yv_mod)\n",
    "    print(hh)\n",
    "    \n",
    "    sorted_idx = cv_cl_mod.feature_importances_.argsort()\n",
    "    plt.barh(b[sorted_idx], cv_cl_mod.feature_importances_[sorted_idx])\n",
    "    plt.xlabel(\"Xgboost Feature Importance\")\n",
    "    \n",
    "    shap_imp_pd=pd.DataFrame(\n",
    "    index=b, \n",
    "    data = np.mean(np.absolute(shap_values), axis = 0), \n",
    "    columns=[\"Importance\"])\n",
    "    shap_imp_pd.sort_values(\n",
    "    by=['Importance']).plot.barh(y='Importance')\n",
    "    \n",
    "    plt.rcParams.update({'font.family':'Arial'})\n",
    "    plt.rcParams.update({'font.size': 16})\n",
    "    plt.savefig('SXGBfimportance.pdf')\n",
    "\n",
    "    tr_m_yv_mod = cv_cl_mod.predict(tr_m_xv)\n",
    "\n",
    "    end = time.time()\n",
    "    print(\"Time for training the classification model: {0:.4f}s\".format(end - start))\n",
    "    \n",
    "    dump(cv_cl_mod, \"cl.joblib.dat\")\n",
    "\n",
    "    # calculate the variance\n",
    "    tr_m_mse = mean_squared_error(tr_m_yv_obs, tr_m_yv_mod)\n",
    "    tr_m_r2 = r2_score(tr_m_yv_obs, tr_m_yv_mod)\n",
    "    \n",
    "    tr_m_mae = mean_absolute_error(tr_m_yv_obs, tr_m_yv_mod)\n",
    "    \n",
    "    print(\"MSE and R2 and MAE of Training: {0:.4f} and {1:.2f} and {2:.2f}\".format(tr_m_mse, tr_m_r2, tr_m_mae))\n",
    "\n",
    "    ######################################################################################\n",
    "    # Phase 2: validation\n",
    "    ######################################################################################\n",
    "    \n",
    "    tmp_yv_mod = cv_cl_mod.predict(val_m_xv)\n",
    "        \n",
    "    val_m_yv_mod = tmp_yv_mod \n",
    "    \n",
    "    # calculate the variance\n",
    "    val_m_mse = mean_squared_error(val_m_yv_obs, val_m_yv_mod)\n",
    "    val_m_r2 = r2_score(val_m_yv_obs, val_m_yv_mod)\n",
    "    \n",
    "    val_m_mae = mean_absolute_error(val_m_yv_obs, val_m_yv_mod)\n",
    "\n",
    "    print(\"MSE and R2 and MAE of Prediction: {0:.4f} and {1:.2f} and {2:.2f}\".format(val_m_mse, val_m_r2, val_m_mae))\n",
    "\n",
    "#########################################################################################\n",
    "# predict the BMP adoption decision using selected influential variables\n",
    "#########################################################################################\n",
    "\n",
    "\n",
    "file_path = 'r.csv'\n",
    "datasets1 = pd.read_csv(file_path)\n",
    "target = ['obs_adopt']\n",
    "variables = ['size',\n",
    "'policy',\n",
    "'info1',\n",
    "'info2'\n",
    "]\n",
    "\n",
    "prdBMPXGBoost(datasets1, target, variables)\n"
   ]
  },
  {
   "cell_type": "code",
   "execution_count": 1,
   "metadata": {},
   "outputs": [
    {
     "name": "stdout",
     "output_type": "stream",
     "text": [
      "Collecting shap\n",
      "  Downloading shap-0.41.0-cp37-cp37m-win_amd64.whl (435 kB)\n",
      "Requirement already satisfied: scipy in c:\\users\\siama\\anaconda3\\envs\\py37\\lib\\site-packages (from shap) (1.6.2)\n",
      "Requirement already satisfied: packaging>20.9 in c:\\users\\siama\\anaconda3\\envs\\py37\\lib\\site-packages (from shap) (21.3)\n",
      "Requirement already satisfied: numba in c:\\users\\siama\\anaconda3\\envs\\py37\\lib\\site-packages (from shap) (0.55.1)\n",
      "Requirement already satisfied: pandas in c:\\users\\siama\\appdata\\roaming\\python\\python37\\site-packages (from shap) (1.3.5)\n",
      "Requirement already satisfied: numpy in c:\\users\\siama\\appdata\\roaming\\python\\python37\\site-packages (from shap) (1.21.6)\n",
      "Requirement already satisfied: tqdm>4.25.0 in c:\\users\\siama\\anaconda3\\envs\\py37\\lib\\site-packages (from shap) (4.64.0)\n",
      "Requirement already satisfied: cloudpickle in c:\\users\\siama\\anaconda3\\envs\\py37\\lib\\site-packages (from shap) (2.0.0)\n",
      "Requirement already satisfied: scikit-learn in c:\\users\\siama\\anaconda3\\envs\\py37\\lib\\site-packages (from shap) (1.0.2)\n",
      "Collecting slicer==0.0.7\n",
      "  Using cached slicer-0.0.7-py3-none-any.whl (14 kB)\n",
      "Requirement already satisfied: pyparsing!=3.0.5,>=2.0.2 in c:\\users\\siama\\anaconda3\\envs\\py37\\lib\\site-packages (from packaging>20.9->shap) (3.0.4)\n",
      "Requirement already satisfied: colorama in c:\\users\\siama\\anaconda3\\envs\\py37\\lib\\site-packages (from tqdm>4.25.0->shap) (0.4.4)\n",
      "Requirement already satisfied: setuptools in c:\\users\\siama\\anaconda3\\envs\\py37\\lib\\site-packages (from numba->shap) (61.2.0)\n",
      "Requirement already satisfied: llvmlite<0.39,>=0.38.0rc1 in c:\\users\\siama\\anaconda3\\envs\\py37\\lib\\site-packages (from numba->shap) (0.38.0)\n",
      "Requirement already satisfied: python-dateutil>=2.7.3 in c:\\users\\siama\\appdata\\roaming\\python\\python37\\site-packages (from pandas->shap) (2.8.2)\n",
      "Requirement already satisfied: pytz>=2017.3 in c:\\users\\siama\\appdata\\roaming\\python\\python37\\site-packages (from pandas->shap) (2022.1)\n",
      "Requirement already satisfied: six>=1.5 in c:\\users\\siama\\appdata\\roaming\\python\\python37\\site-packages (from python-dateutil>=2.7.3->pandas->shap) (1.16.0)\n",
      "Requirement already satisfied: joblib>=0.11 in c:\\users\\siama\\anaconda3\\envs\\py37\\lib\\site-packages (from scikit-learn->shap) (1.1.0)\n",
      "Requirement already satisfied: threadpoolctl>=2.0.0 in c:\\users\\siama\\anaconda3\\envs\\py37\\lib\\site-packages (from scikit-learn->shap) (2.2.0)\n",
      "Installing collected packages: slicer, shap\n",
      "Successfully installed shap-0.41.0 slicer-0.0.7\n"
     ]
    }
   ],
   "source": [
    "!pip install shap"
   ]
  },
  {
   "cell_type": "code",
   "execution_count": 2,
   "metadata": {},
   "outputs": [
    {
     "name": "stdout",
     "output_type": "stream",
     "text": [
      "Collecting xgboost\n",
      "  Downloading xgboost-1.6.2-py3-none-win_amd64.whl (125.4 MB)\n",
      "Requirement already satisfied: numpy in c:\\users\\siama\\appdata\\roaming\\python\\python37\\site-packages (from xgboost) (1.21.6)\n",
      "Requirement already satisfied: scipy in c:\\users\\siama\\anaconda3\\envs\\py37\\lib\\site-packages (from xgboost) (1.6.2)\n",
      "Installing collected packages: xgboost\n",
      "Successfully installed xgboost-1.6.2\n"
     ]
    }
   ],
   "source": [
    "!pip install xgboost"
   ]
  },
  {
   "cell_type": "code",
   "execution_count": 3,
   "metadata": {},
   "outputs": [
    {
     "name": "stdout",
     "output_type": "stream",
     "text": [
      "Requirement already satisfied: joblib in c:\\users\\siama\\anaconda3\\envs\\py37\\lib\\site-packages (1.1.0)\n"
     ]
    }
   ],
   "source": [
    "!pip install joblib"
   ]
  },
  {
   "cell_type": "code",
   "execution_count": null,
   "metadata": {},
   "outputs": [],
   "source": []
  }
 ],
 "metadata": {
  "kernelspec": {
   "display_name": "Python 3 (ipykernel)",
   "language": "python",
   "name": "python3"
  },
  "language_info": {
   "codemirror_mode": {
    "name": "ipython",
    "version": 3
   },
   "file_extension": ".py",
   "mimetype": "text/x-python",
   "name": "python",
   "nbconvert_exporter": "python",
   "pygments_lexer": "ipython3",
   "version": "3.9.12"
  }
 },
 "nbformat": 4,
 "nbformat_minor": 4
}
